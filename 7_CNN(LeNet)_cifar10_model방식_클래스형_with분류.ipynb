{
  "nbformat": 4,
  "nbformat_minor": 0,
  "metadata": {
    "colab": {
      "name": "7.CNN(LeNet)-cifar10-model방식_클래스형_with분류.ipynb",
      "provenance": [],
      "collapsed_sections": [],
      "authorship_tag": "ABX9TyMjjuto5Q9GL1nXGDCNF+ij",
      "include_colab_link": true
    },
    "kernelspec": {
      "name": "python3",
      "display_name": "Python 3"
    },
    "accelerator": "GPU"
  },
  "cells": [
    {
      "cell_type": "markdown",
      "metadata": {
        "id": "view-in-github",
        "colab_type": "text"
      },
      "source": [
        "<a href=\"https://colab.research.google.com/github/duc-ke/study-book-keras_3mins_deeplearning/blob/master/7_CNN(LeNet)_cifar10_model%EB%B0%A9%EC%8B%9D_%ED%81%B4%EB%9E%98%EC%8A%A4%ED%98%95_with%EB%B6%84%EB%A5%98.ipynb\" target=\"_parent\"><img src=\"https://colab.research.google.com/assets/colab-badge.svg\" alt=\"Open In Colab\"/></a>"
      ]
    },
    {
      "cell_type": "code",
      "metadata": {
        "id": "Vk6QfZw4-qNr",
        "colab_type": "code",
        "outputId": "244b980e-1afa-44c4-f825-ec7bcaf1ad79",
        "colab": {
          "base_uri": "https://localhost:8080/",
          "height": 119
        }
      },
      "source": [
        "!git clone https://github.com/duc-ke/study_3mins_deeplearning.git\n",
        "%run study_3mins_deeplearning/0_custom_libraries.ipynb"
      ],
      "execution_count": 0,
      "outputs": [
        {
          "output_type": "stream",
          "text": [
            "Cloning into 'study_3mins_deeplearning'...\n",
            "remote: Enumerating objects: 28, done.\u001b[K\n",
            "remote: Counting objects: 100% (28/28), done.\u001b[K\n",
            "remote: Compressing objects: 100% (27/27), done.\u001b[K\n",
            "remote: Total 28 (delta 12), reused 0 (delta 0), pack-reused 0\u001b[K\n",
            "Unpacking objects: 100% (28/28), done.\n"
          ],
          "name": "stdout"
        }
      ]
    },
    {
      "cell_type": "code",
      "metadata": {
        "id": "R6X1WJcpHrc0",
        "colab_type": "code",
        "outputId": "e2d5e10a-b480-4286-a27d-ecdb613ff583",
        "colab": {
          "base_uri": "https://localhost:8080/",
          "height": 80
        }
      },
      "source": [
        "from keras.layers import Dense, Conv2D, MaxPool2D, Dropout, Flatten, Input\n",
        "from keras.models import Model\n",
        "from keras import datasets\n",
        "from keras.utils import np_utils"
      ],
      "execution_count": 0,
      "outputs": [
        {
          "output_type": "stream",
          "text": [
            "Using TensorFlow backend.\n"
          ],
          "name": "stderr"
        },
        {
          "output_type": "display_data",
          "data": {
            "text/html": [
              "<p style=\"color: red;\">\n",
              "The default version of TensorFlow in Colab will soon switch to TensorFlow 2.x.<br>\n",
              "We recommend you <a href=\"https://www.tensorflow.org/guide/migrate\" target=\"_blank\">upgrade</a> now \n",
              "or ensure your notebook will continue to use TensorFlow 1.x via the <code>%tensorflow_version 1.x</code> magic:\n",
              "<a href=\"https://colab.research.google.com/notebooks/tensorflow_version.ipynb\" target=\"_blank\">more info</a>.</p>\n"
            ],
            "text/plain": [
              "<IPython.core.display.HTML object>"
            ]
          },
          "metadata": {
            "tags": []
          }
        }
      ]
    },
    {
      "cell_type": "code",
      "metadata": {
        "id": "GjeiOZqAIAXt",
        "colab_type": "code",
        "colab": {}
      },
      "source": [
        "class CNN(Model):\n",
        "  def __init__(self, input_shape, num_of_classes):\n",
        "    self.num_of_classes = num_of_classes\n",
        "    self.in_shape = input_shape\n",
        "    self.build_model()\n",
        "    self.compiler()\n",
        "  \n",
        "  def build_model(self):\n",
        "    in_shape = self.in_shape\n",
        "    print('!!!!!', in_shape)\n",
        "    num_of_classes = model.num_of_classes\n",
        "\n",
        "    x = Input(shape=in_shape)\n",
        "    h = Conv2D(32, kernel_size=(3, 3), activation='relu', input_shape=in_shape)(x)\n",
        "    h = Conv2D(64, kernel_size=(3, 3), activation='relu')(h)\n",
        "    h = MaxPool2D(pool_size=(2, 2))(h)\n",
        "    h = Dropout(0.25)(h)\n",
        "\n",
        "    h = Flatten()(h)\n",
        "\n",
        "    h = Dense(128, activation='relu')(h)\n",
        "    h = Dropout(0.5)(h)\n",
        "    y = Dense(num_of_classes, activation='softmax')(h)\n",
        "\n",
        "    super().__init__(x, y)\n",
        "    # self.compile(loss='categorical_crossentropy', optimizer='adam', metrics=['accuracy'])\n",
        "\n",
        "  def compiler(self):\n",
        "    self.compile(loss='categorical_crossentropy', optimizer='adam', metrics=['accuracy'])"
      ],
      "execution_count": 0,
      "outputs": []
    },
    {
      "cell_type": "code",
      "metadata": {
        "id": "xG88WUbyP9Jq",
        "colab_type": "code",
        "colab": {}
      },
      "source": [
        "from sklearn import preprocessing    # MinMax Scaler\n",
        "from sklearn import model_selection    # x, y데이터를 split\n",
        "from sklearn import metrics    # confusion matrix출력"
      ],
      "execution_count": 0,
      "outputs": []
    },
    {
      "cell_type": "code",
      "metadata": {
        "id": "tzcrMDnIO1sM",
        "colab_type": "code",
        "colab": {}
      },
      "source": [
        "class Data():\n",
        "  def __init__(self, x_train, y_train, num_of_classes, scaling=True):\n",
        "    self.x = x_train\n",
        "    self.y = y_train\n",
        "    self.add_channels()\n",
        "    x_train = self.x\n",
        "    \n",
        "\n",
        "    print(x_train.shape)\n",
        "    x_train = x_train.astype('float32')\n",
        "\n",
        "    x_train, x_val, y_train, y_val = model_selection.train_test_split(x_train, y_train, test_size=0.2,\n",
        "                                                                      random_state=42)\n",
        "\n",
        "    n, r, c, channels = x_train.shape\n",
        "    n2, r2, c2, channels2 = x_val.shape\n",
        "\n",
        "    if scaling:\n",
        "      scaler = preprocessing.MinMaxScaler()\n",
        "      x_train = scaler.fit_transform(x_train.reshape(n, -1)).reshape(x_train.shape)    # MinMaxScaler는 1차원 벡터가 input \n",
        "      x_val = scaler.transform(x_val.reshape(n2, -1)).reshape(x_val.shape)\n",
        "    \n",
        "    print('original x_train shape:', x_train.shape)\n",
        "    print('x_train size:', x_train.shape[0])\n",
        "    print('x_test size:', x_test.shape[0])\n",
        "    \n",
        "    y_train = np_utils.to_categorical(y_train, num_of_classes)\n",
        "    y_val = np_utils.to_categorical(y_val, num_of_classes)\n",
        "\n",
        "    self.x_train, self.y_train = x_train, y_train\n",
        "    self.x_val, self.y_val = x_val, y_val\n",
        "\n",
        "\n",
        "  def add_channels(self):\n",
        "    x = self.x\n",
        "\n",
        "    if len(x) == 3:    # 흑백일 경우\n",
        "      n, r, c = x.shape \n",
        "      x = x.reshape(n, r, c, 1)\n",
        "      input_shape = (r, c, 1)\n",
        "    else:\n",
        "      input_shape = x.shape[1:]\n",
        "    self.input_shape = input_shape\n",
        "    self.x = x\n",
        "\n",
        "\n",
        "    "
      ],
      "execution_count": 0,
      "outputs": []
    },
    {
      "cell_type": "code",
      "metadata": {
        "id": "oHbkATPH0i1L",
        "colab_type": "code",
        "colab": {}
      },
      "source": [
        "import numpy as np"
      ],
      "execution_count": 0,
      "outputs": []
    },
    {
      "cell_type": "code",
      "metadata": {
        "id": "gyV7WjVt7nLw",
        "colab_type": "code",
        "colab": {}
      },
      "source": [
        "# data 저장하기 위한 함수\n",
        "import datetime\n",
        "import uuid\n",
        "import os\n",
        "\n",
        "\n",
        "def unique_filename(type='uuid'):\n",
        "    if type == 'datetime':\n",
        "        filename = datetime.datetime.now().strftime(\"%y%m%d_%H%M%S\")\n",
        "    else:  # type == \"uuid\"\n",
        "        filename = str(uuid.uuid4())\n",
        "    return filename\n",
        "\n",
        "\n",
        "def makenewfold(prefix='output_', type='datetime'):\n",
        "    suffix = unique_filename('datetime')\n",
        "    foldname = 'output_' + suffix\n",
        "    os.makedirs(foldname)\n",
        "    return foldname"
      ],
      "execution_count": 0,
      "outputs": []
    },
    {
      "cell_type": "code",
      "metadata": {
        "id": "WiY8nBKKQ6II",
        "colab_type": "code",
        "colab": {}
      },
      "source": [
        "class Machine():\n",
        "  def __init__(self, x, y, num_of_classes):\n",
        "    num_of_classes = 10\n",
        "    x_train = x\n",
        "    y_train = y\n",
        "    self.num_of_classes = num_of_classes\n",
        "    self.set_data(x_train, y_train)\n",
        "    self.set_model()\n",
        "  \n",
        "  def set_data(self, x, y):\n",
        "    num_of_classes = self.num_of_classes\n",
        "    data = Data(x, y, num_of_classes)\n",
        "    self.data = data\n",
        "\n",
        "  def set_model(self):\n",
        "    data = self.data \n",
        "    input_shape = data.input_shape\n",
        "    print('Machine의 input shape', input_shape)\n",
        "    num_of_classes = self.num_of_classes\n",
        "    model = CNN(input_shape, num_of_classes)\n",
        "    self.model = model\n",
        "  \n",
        "  def fit(self, epochs=100, batch_size=100):\n",
        "    x_train = self.data.x_train\n",
        "    y_train = self.data.y_train\n",
        "    model = self.model\n",
        "\n",
        "    x_val = self.data.x_val\n",
        "    y_val = self.data.y_val\n",
        "    history = model.fit(x_train, y_train, epochs=epochs, batch_size=batch_size, verbose=1,\n",
        "             validation_data=(x_val, y_val))\n",
        "    self.history = history\n",
        "  \n",
        "  def model_result(self, fig=True, batch_size=100):\n",
        "    model = self.model\n",
        "    x_val = self.data.x_val\n",
        "    y_val = self.data.y_val\n",
        "    history = self.history\n",
        "    \n",
        "    ##### evaluate & fig\n",
        "    print('Confusion matrix')\n",
        "    y_pred = model.predict(x_val)\n",
        "    y_pred_class = np.argmax(y_pred, axis=1)    # softmax확률값을 y class로 롤백\n",
        "    # print(metrics.confusion_matrix(y ))\n",
        "    y_true_class = np.argmax(y_val, axis=1)\n",
        "    print('y_pred:{}'.format(y_pred))\n",
        "    print('y_predicted_class:{}, y_true_class:{}'.format(y_pred_class, y_true_class))\n",
        "    print(metrics.confusion_matrix(y_pred_class, y_true_class))\n",
        "\n",
        "    evaluation = model.evaluate(x_val, y_val, batch_size=batch_size)\n",
        "    print('evaluation(Cost, Accuracy): {}'.format(evaluation))\n",
        "\n",
        "    # 결과저장\n",
        "    suffix = unique_filename('datetime')\n",
        "    dir_name = 'output_' + suffix\n",
        "    os.mkdir(dir_name)\n",
        "\n",
        "     # history 저장\n",
        "    f_history = 'history.npy'\n",
        "    np.save(os.path.join(dir_name, f_history), history.history)\n",
        "    \n",
        "     # 가중치 저장\n",
        "    model.save_weights(os.path.join(dir_name, 'dl_model.h5'))    \n",
        "    print('Output dir name:', dir_name)\n",
        "    \n",
        "    if fig:\n",
        "      plt.figure(figsize=(12, 4))\n",
        "      plt.subplot(1, 2, 1)\n",
        "      plot_acc(history)\n",
        "      plt.subplot(1, 2, 2)\n",
        "      plot_loss(history)\n",
        "      plt.show()"
      ],
      "execution_count": 0,
      "outputs": []
    },
    {
      "cell_type": "code",
      "metadata": {
        "id": "kGR40HYrPpPm",
        "colab_type": "code",
        "outputId": "a972a42e-f7d1-4710-9e13-9fa7d24eba86",
        "colab": {
          "base_uri": "https://localhost:8080/",
          "height": 119
        }
      },
      "source": [
        "(x_train, y_train), (x_test, y_test) = datasets.cifar10.load_data()\n",
        "model = Machine(x_train, y_train, 10)"
      ],
      "execution_count": 0,
      "outputs": [
        {
          "output_type": "stream",
          "text": [
            "(50000, 32, 32, 3)\n",
            "original x_train shape: (40000, 32, 32, 3)\n",
            "x_train size: 40000\n",
            "x_test size: 10000\n",
            "Machine의 input shape (32, 32, 3)\n",
            "!!!!! (32, 32, 3)\n"
          ],
          "name": "stdout"
        }
      ]
    },
    {
      "cell_type": "code",
      "metadata": {
        "id": "rNwYNhHuYi2f",
        "colab_type": "code",
        "outputId": "7833bb2f-9587-4877-a7a5-90ea0d425e22",
        "colab": {
          "base_uri": "https://localhost:8080/",
          "height": 374
        }
      },
      "source": [
        "model.fit(epochs=10)"
      ],
      "execution_count": 0,
      "outputs": [
        {
          "output_type": "stream",
          "text": [
            "Train on 40000 samples, validate on 10000 samples\n",
            "Epoch 1/10\n",
            "40000/40000 [==============================] - 6s 142us/step - loss: 1.6280 - acc: 0.4093 - val_loss: 1.2998 - val_acc: 0.5403\n",
            "Epoch 2/10\n",
            "40000/40000 [==============================] - 5s 118us/step - loss: 1.2810 - acc: 0.5456 - val_loss: 1.0953 - val_acc: 0.6165\n",
            "Epoch 3/10\n",
            "40000/40000 [==============================] - 5s 118us/step - loss: 1.1403 - acc: 0.5963 - val_loss: 0.9838 - val_acc: 0.6558\n",
            "Epoch 4/10\n",
            "40000/40000 [==============================] - 5s 118us/step - loss: 1.0529 - acc: 0.6283 - val_loss: 0.9469 - val_acc: 0.6662\n",
            "Epoch 5/10\n",
            "40000/40000 [==============================] - 5s 119us/step - loss: 0.9850 - acc: 0.6505 - val_loss: 0.9316 - val_acc: 0.6758\n",
            "Epoch 6/10\n",
            "40000/40000 [==============================] - 5s 119us/step - loss: 0.9260 - acc: 0.6697 - val_loss: 0.9290 - val_acc: 0.6767\n",
            "Epoch 7/10\n",
            "40000/40000 [==============================] - 5s 119us/step - loss: 0.8768 - acc: 0.6891 - val_loss: 0.8978 - val_acc: 0.6857\n",
            "Epoch 8/10\n",
            "40000/40000 [==============================] - 5s 118us/step - loss: 0.8207 - acc: 0.7063 - val_loss: 0.8919 - val_acc: 0.6870\n",
            "Epoch 9/10\n",
            "40000/40000 [==============================] - 5s 117us/step - loss: 0.7889 - acc: 0.7176 - val_loss: 0.9178 - val_acc: 0.6799\n",
            "Epoch 10/10\n",
            "40000/40000 [==============================] - 5s 118us/step - loss: 0.7550 - acc: 0.7288 - val_loss: 0.8857 - val_acc: 0.6958\n"
          ],
          "name": "stdout"
        }
      ]
    },
    {
      "cell_type": "code",
      "metadata": {
        "id": "zX3N9_U-ZzFe",
        "colab_type": "code",
        "outputId": "0d95e2fe-6d38-4dae-db66-4f048fce0fe7",
        "colab": {
          "base_uri": "https://localhost:8080/",
          "height": 771
        }
      },
      "source": [
        "model.model_result()"
      ],
      "execution_count": 0,
      "outputs": [
        {
          "output_type": "stream",
          "text": [
            "Confusion matrix\n",
            "y_pred:[[5.27015945e-04 1.15463954e-04 1.09843328e-03 ... 2.36961357e-02\n",
            "  4.98696281e-05 9.12512243e-02]\n",
            " [6.50736829e-03 2.17021625e-05 2.10315979e-04 ... 1.48899449e-06\n",
            "  9.91796374e-01 1.38040504e-03]\n",
            " [2.91589051e-01 1.69910863e-03 3.11783236e-02 ... 2.24141753e-03\n",
            "  6.31506205e-01 5.98897040e-03]\n",
            " ...\n",
            " [6.13301210e-02 1.95705160e-01 6.62144012e-05 ... 1.82172457e-07\n",
            "  7.00177789e-01 4.26759161e-02]\n",
            " [5.74430169e-06 4.70814626e-07 2.62594037e-02 ... 1.30857190e-03\n",
            "  1.95649150e-07 3.05505843e-08]\n",
            " [4.28210078e-05 2.05440097e-04 3.44586298e-02 ... 5.16996988e-05\n",
            "  1.38029191e-05 1.82761232e-06]]\n",
            "y_predicted_class:[5 8 8 ... 8 4 6], y_true_class:[7 8 0 ... 8 2 6]\n",
            "[[638  20  60  16  17   3   4  12  56  16]\n",
            " [ 35 811   5   4   6   5  13   4  43 105]\n",
            " [ 71  10 666 107 117 104  72  69  19  13]\n",
            " [ 29  12  56 527  58 185  61  45  13  16]\n",
            " [ 23   7  67  54 586  39  54  55   3   2]\n",
            " [ 12   5  67 202  19 585  22  47   6   3]\n",
            " [  5   4  45  58  39  23 758   4   3   6]\n",
            " [ 13   1  36  36  78  62   3 733   4  21]\n",
            " [ 90  20  19   9   8   5   4   8 820  24]\n",
            " [ 57  89   9  10   5   4   5  17  50 834]]\n",
            "10000/10000 [==============================] - 0s 41us/step\n",
            "evaluation(Cost, Accuracy): [0.8857031470537186, 0.6958000046014786]\n",
            "Output dir name: output_200225_035447\n"
          ],
          "name": "stdout"
        },
        {
          "output_type": "display_data",
          "data": {
            "image/png": "[encoded data removed]",
            "text/plain": [
              "<Figure size 864x288 with 2 Axes>"
            ]
          },
          "metadata": {
            "tags": []
          }
        }
      ]
    },
    {
      "cell_type": "code",
      "metadata": {
        "id": "B0_vhxyNcRkD",
        "colab_type": "code",
        "colab": {}
      },
      "source": [
        ""
      ],
      "execution_count": 0,
      "outputs": []
    }
  ]
}