{
  "nbformat": 4,
  "nbformat_minor": 0,
  "metadata": {
    "colab": {
      "name": "6.CNN(LeNet)-mnist-sequential방식_클래스형_with분류.ipynb",
      "provenance": [],
      "authorship_tag": "ABX9TyPKzAbXgKVJ/lNWJgeg/KBE",
      "include_colab_link": true
    },
    "kernelspec": {
      "name": "python3",
      "display_name": "Python 3"
    },
    "accelerator": "GPU"
  },
  "cells": [
    {
      "cell_type": "markdown",
      "metadata": {
        "id": "view-in-github",
        "colab_type": "text"
      },
      "source": [
        "<a href=\"https://colab.research.google.com/github/duc-ke/study-book-keras_3mins_deeplearning/blob/master/6_CNN(LeNet)_mnist_sequential%EB%B0%A9%EC%8B%9D_%ED%81%B4%EB%9E%98%EC%8A%A4%ED%98%95_with%EB%B6%84%EB%A5%98.ipynb\" target=\"_parent\"><img src=\"https://colab.research.google.com/assets/colab-badge.svg\" alt=\"Open In Colab\"/></a>"
      ]
    },
    {
      "cell_type": "markdown",
      "metadata": {
        "id": "GRPMcHXpmt_0",
        "colab_type": "text"
      },
      "source": [
        "## Tip. Colab Shortcuts\n",
        "* show docstring : `cmd + shift + space`\n",
        "* autocomplete : `ctrl + space`"
      ]
    },
    {
      "cell_type": "code",
      "metadata": {
        "id": "dfCaOdC5wO8c",
        "colab_type": "code",
        "outputId": "a78aa086-8535-4c6c-a6cb-98c2ee383c07",
        "colab": {
          "base_uri": "https://localhost:8080/",
          "height": 34
        }
      },
      "source": [
        "!git clone https://github.com/duc-ke/study_3mins_deeplearning.git\n",
        "%run study_3mins_deeplearning/0_plot_performance.ipynb"
      ],
      "execution_count": 0,
      "outputs": [
        {
          "output_type": "stream",
          "text": [
            "fatal: destination path 'study_3mins_deeplearning' already exists and is not an empty directory.\n"
          ],
          "name": "stdout"
        }
      ]
    },
    {
      "cell_type": "code",
      "metadata": {
        "id": "4Rkk8Gc8w1Mv",
        "colab_type": "code",
        "colab": {}
      },
      "source": [
        "from keras import layers, models\n",
        "from keras.utils import np_utils\n",
        "from keras import datasets\n",
        "from keras import backend"
      ],
      "execution_count": 0,
      "outputs": []
    },
    {
      "cell_type": "code",
      "metadata": {
        "id": "pz3tVJbpjcmN",
        "colab_type": "code",
        "colab": {}
      },
      "source": [
        "class CNN(models.Sequential):\n",
        "  def __init__(self, input_shape, num_of_classes):\n",
        "    super().__init__()\n",
        "\n",
        "    self.add(layers.Conv2D(32, kernel_size=(3,3), activation='relu', input_shape=input_shape))\n",
        "    self.add(layers.Conv2D(64, kernel_size=(3,3), activation='relu'))\n",
        "    self.add(layers.MaxPool2D(pool_size=(2,2)))\n",
        "    self.add(layers.Dropout(0.25))\n",
        "\n",
        "    self.add(layers.Flatten())\n",
        "    self.add(layers.Dense(128, activation='relu'))\n",
        "    self.add(layers.Dropout(0.5))\n",
        "    self.add(layers.Dense(num_of_classes, activation='softmax'))\n",
        "\n",
        "\n",
        "    self.compile(loss='categorical_crossentropy', optimizer='adam', metrics=['accuracy'])"
      ],
      "execution_count": 0,
      "outputs": []
    },
    {
      "cell_type": "code",
      "metadata": {
        "id": "Q2VNUUWbkDfG",
        "colab_type": "code",
        "colab": {}
      },
      "source": [
        "class Data():\n",
        "  def __init__(self):\n",
        "    (x_train, y_train), (x_test, y_test) = datasets.mnist.load_data()\n",
        "    y_train = np_utils.to_categorical(y_train)\n",
        "    y_test = np_utils.to_categorical(y_test)\n",
        "    \n",
        "    print(x_train.shape)\n",
        "    n, r, c = x_train.shape\n",
        "    x_train = x_train.reshape(-1, r, c, 1)\n",
        "    x_test = x_test.reshape(-1, r, c, 1)\n",
        "    input_shape = (r, c, 1)\n",
        "    \n",
        "    x_train = x_train.astype('float32')\n",
        "    x_test = x_test.astype('float32')\n",
        "    \n",
        "    x_train = x_train / 255.0\n",
        "    x_test = x_test / 255.0\n",
        "  \n",
        "    self.num_of_classes = 10\n",
        "    self.input_shape = input_shape\n",
        "    self.x_train, self.y_train = x_train, y_train\n",
        "    self.x_test, self.y_test = x_test, y_test\n"
      ],
      "execution_count": 0,
      "outputs": []
    },
    {
      "cell_type": "code",
      "metadata": {
        "id": "JgCgVCf5ptvU",
        "colab_type": "code",
        "outputId": "f87b6185-92b6-49e2-b463-e230f9df9f2a",
        "colab": {
          "base_uri": "https://localhost:8080/",
          "height": 34
        }
      },
      "source": [
        "data = Data()"
      ],
      "execution_count": 0,
      "outputs": [
        {
          "output_type": "stream",
          "text": [
            "(60000, 28, 28)\n"
          ],
          "name": "stdout"
        }
      ]
    },
    {
      "cell_type": "code",
      "metadata": {
        "id": "_ayXly8KpphC",
        "colab_type": "code",
        "outputId": "2ebbb0e1-e209-4af9-804f-795ccae44e97",
        "colab": {
          "base_uri": "https://localhost:8080/",
          "height": 374
        }
      },
      "source": [
        "model = CNN(data.input_shape, data.num_of_classes)\n",
        "history = model.fit(data.x_train, data.y_train, epochs=10, batch_size=100, verbose=1, validation_split=0.2)"
      ],
      "execution_count": 0,
      "outputs": [
        {
          "output_type": "stream",
          "text": [
            "Train on 48000 samples, validate on 12000 samples\n",
            "Epoch 1/10\n",
            "48000/48000 [==============================] - 6s 127us/step - loss: 0.2600 - acc: 0.9204 - val_loss: 0.0625 - val_acc: 0.9817\n",
            "Epoch 2/10\n",
            "48000/48000 [==============================] - 6s 118us/step - loss: 0.0919 - acc: 0.9721 - val_loss: 0.0469 - val_acc: 0.9852\n",
            "Epoch 3/10\n",
            "48000/48000 [==============================] - 6s 115us/step - loss: 0.0691 - acc: 0.9786 - val_loss: 0.0416 - val_acc: 0.9884\n",
            "Epoch 4/10\n",
            "48000/48000 [==============================] - 6s 116us/step - loss: 0.0543 - acc: 0.9833 - val_loss: 0.0372 - val_acc: 0.9894\n",
            "Epoch 5/10\n",
            "48000/48000 [==============================] - 5s 114us/step - loss: 0.0477 - acc: 0.9846 - val_loss: 0.0386 - val_acc: 0.9889\n",
            "Epoch 6/10\n",
            "48000/48000 [==============================] - 6s 116us/step - loss: 0.0408 - acc: 0.9870 - val_loss: 0.0387 - val_acc: 0.9896\n",
            "Epoch 7/10\n",
            "48000/48000 [==============================] - 5s 113us/step - loss: 0.0344 - acc: 0.9890 - val_loss: 0.0392 - val_acc: 0.9898\n",
            "Epoch 8/10\n",
            "48000/48000 [==============================] - 6s 115us/step - loss: 0.0322 - acc: 0.9893 - val_loss: 0.0346 - val_acc: 0.9904\n",
            "Epoch 9/10\n",
            "48000/48000 [==============================] - 5s 113us/step - loss: 0.0308 - acc: 0.9901 - val_loss: 0.0349 - val_acc: 0.9898\n",
            "Epoch 10/10\n",
            "48000/48000 [==============================] - 5s 113us/step - loss: 0.0257 - acc: 0.9912 - val_loss: 0.0346 - val_acc: 0.9897\n"
          ],
          "name": "stdout"
        }
      ]
    },
    {
      "cell_type": "code",
      "metadata": {
        "id": "t8o920JeoacP",
        "colab_type": "code",
        "outputId": "d2253c4d-dead-4b57-98a8-aad4e78804a1",
        "colab": {
          "base_uri": "https://localhost:8080/",
          "height": 51
        }
      },
      "source": [
        "evaluation = model.evaluate(data.x_test, data.y_test, batch_size=100)\n",
        "print(evaluation)"
      ],
      "execution_count": 0,
      "outputs": [
        {
          "output_type": "stream",
          "text": [
            "10000/10000 [==============================] - 0s 32us/step\n",
            "[0.028232509624936314, 0.9922000068426132]\n"
          ],
          "name": "stdout"
        }
      ]
    },
    {
      "cell_type": "code",
      "metadata": {
        "id": "aBpY_7WhvJ9U",
        "colab_type": "code",
        "outputId": "005e5dab-e0c2-4367-cb29-e84fb1b9f4dc",
        "colab": {
          "base_uri": "https://localhost:8080/",
          "height": 295
        }
      },
      "source": [
        "plot_loss(history)"
      ],
      "execution_count": 0,
      "outputs": [
        {
          "output_type": "display_data",
          "data": {
            "image/png": "[encoded data removed]",
            "text/plain": [
              "<Figure size 432x288 with 1 Axes>"
            ]
          },
          "metadata": {
            "tags": []
          }
        }
      ]
    },
    {
      "cell_type": "code",
      "metadata": {
        "id": "yj41i4lXw3ln",
        "colab_type": "code",
        "outputId": "13232c5f-03c6-451b-c749-8ea6d9f4d863",
        "colab": {
          "base_uri": "https://localhost:8080/",
          "height": 295
        }
      },
      "source": [
        "plot_acc(history)"
      ],
      "execution_count": 0,
      "outputs": [
        {
          "output_type": "display_data",
          "data": {
            "image/png": "[encoded data removed]",
            "text/plain": [
              "<Figure size 432x288 with 1 Axes>"
            ]
          },
          "metadata": {
            "tags": []
          }
        }
      ]
    },
    {
      "cell_type": "code",
      "metadata": {
        "id": "AYxddkMOw6Ut",
        "colab_type": "code",
        "outputId": "5061bb7e-990a-4b17-c3da-c85766747e55",
        "colab": {
          "base_uri": "https://localhost:8080/",
          "height": 452
        }
      },
      "source": [
        "# model prediction\n",
        "\n",
        "(x_train, y_train), (x_test, y_test) = datasets.mnist.load_data()\n",
        "\n",
        "test_sample = x_test[0]\n",
        "plt.imshow(test_sample, cmap='Greys')\n",
        "plt.show()\n",
        "\n",
        "result = model.predict(data.x_test[:1])\n",
        "print('True value : {}'.format(y_test[0]))\n",
        "\n",
        "result = result.flatten()\n",
        "for index, each in enumerate(result):\n",
        "  print(index, each)"
      ],
      "execution_count": 0,
      "outputs": [
        {
          "output_type": "display_data",
          "data": {
            "image/png": "[encoded data removed]",
            "text/plain": [
              "<Figure size 432x288 with 1 Axes>"
            ]
          },
          "metadata": {
            "tags": []
          }
        },
        {
          "output_type": "stream",
          "text": [
            "True value : 7\n",
            "0 1.7092523e-16\n",
            "1 1.3013753e-12\n",
            "2 1.372318e-12\n",
            "3 1.1502058e-10\n",
            "4 1.3039565e-16\n",
            "5 3.3213955e-17\n",
            "6 1.138167e-19\n",
            "7 1.0\n",
            "8 2.7181663e-16\n",
            "9 1.8836903e-10\n"
          ],
          "name": "stdout"
        }
      ]
    },
    {
      "cell_type": "code",
      "metadata": {
        "id": "78GRUx9G6Kfg",
        "colab_type": "code",
        "colab": {}
      },
      "source": [
        ""
      ],
      "execution_count": 0,
      "outputs": []
    }
  ]
}